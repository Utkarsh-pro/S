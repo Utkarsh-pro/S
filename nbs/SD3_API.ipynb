{
  "cells": [
    {
      "cell_type": "markdown",
      "metadata": {
        "id": "view-in-github",
        "colab_type": "text"
      },
      "source": [
        "<a href=\"https://colab.research.google.com/github/Utkarsh-pro/S/blob/main/nbs/SD3_API.ipynb\" target=\"_parent\"><img src=\"https://colab.research.google.com/assets/colab-badge.svg\" alt=\"Open In Colab\"/></a>"
      ]
    },
    {
      "cell_type": "code",
      "execution_count": 6,
      "metadata": {
        "id": "AvTo6cVeF3ip",
        "outputId": "2e2e7a54-0f6e-4c71-f568-52564261bf49",
        "colab": {
          "base_uri": "https://localhost:8080/",
          "height": 219
        }
      },
      "outputs": [
        {
          "output_type": "error",
          "ename": "NameError",
          "evalue": "name 'true' is not defined",
          "traceback": [
            "\u001b[0;31m---------------------------------------------------------------------------\u001b[0m",
            "\u001b[0;31mNameError\u001b[0m                                 Traceback (most recent call last)",
            "\u001b[0;32m<ipython-input-6-334668e4ebd2>\u001b[0m in \u001b[0;36m<cell line: 13>\u001b[0;34m()\u001b[0m\n\u001b[1;32m     11\u001b[0m \u001b[0;34m\u001b[0m\u001b[0m\n\u001b[1;32m     12\u001b[0m \u001b[0;34m\u001b[0m\u001b[0m\n\u001b[0;32m---> 13\u001b[0;31m \u001b[0;32mwhile\u001b[0m \u001b[0mtrue\u001b[0m\u001b[0;34m:\u001b[0m\u001b[0;34m\u001b[0m\u001b[0;34m\u001b[0m\u001b[0m\n\u001b[0m\u001b[1;32m     14\u001b[0m   def send_generation_request(\n\u001b[1;32m     15\u001b[0m           \u001b[0mhost\u001b[0m\u001b[0;34m,\u001b[0m\u001b[0;34m\u001b[0m\u001b[0;34m\u001b[0m\u001b[0m\n",
            "\u001b[0;31mNameError\u001b[0m: name 'true' is not defined"
          ]
        }
      ],
      "source": [
        "from io import BytesIO\n",
        "import IPython\n",
        "import json\n",
        "import os\n",
        "from PIL import Image\n",
        "import requests\n",
        "import time\n",
        "from google.colab import output\n",
        "\n",
        "STABILITY_KEY = ('sk-AG0ScyMUaww8ggsT5C8oOvl5GrGpp8lDUhWwsk1C3bP9tveX')\n",
        "\n",
        "\n",
        "\n",
        "def send_generation_request(\n",
        "        host,\n",
        "        params,\n",
        "):\n",
        "    headers = {\n",
        "        \"Accept\": \"image/*\",\n",
        "        \"Authorization\": f\"Bearer {STABILITY_KEY}\"\n",
        "    }\n",
        "\n",
        "    files = {}\n",
        "    image = params.pop(\"image\", None)\n",
        "    mask = params.pop(\"mask\", None)\n",
        "    if image is not None and image != '':\n",
        "        files[\"image\"] = open(image, 'rb')\n",
        "    if mask is not None and mask != '':\n",
        "        files[\"mask\"] = open(mask, 'rb')\n",
        "    if len(files) == 0:\n",
        "        files[\"none\"] = ''\n",
        "\n",
        "    print(f\"Sending REST request to {host}...\")\n",
        "    response = requests.post(\n",
        "        host,\n",
        "        headers=headers,\n",
        "        files=files,\n",
        "        data=params\n",
        "    )\n",
        "    if not response.ok:\n",
        "        raise Exception(f\"HTTP {response.status_code}: {response.text}\")\n",
        "\n",
        "    return response\n",
        "\n",
        "\n",
        "user_input = input(\"Enter your imagination: \")\n",
        "\n",
        "\n",
        "prompt = user_input\n",
        "negative_prompt = \"\"\n",
        "aspect_ratio = \"1:1\"\n",
        "seed = 0\n",
        "output_format = \"jpeg\"\n",
        "\n",
        "host = f\"https://api.stability.ai/v2beta/stable-image/generate/sd3\"\n",
        "\n",
        "params = {\n",
        "    \"prompt\": prompt,\n",
        "    \"negative_prompt\": negative_prompt,\n",
        "    \"aspect_ratio\": aspect_ratio,\n",
        "    \"seed\": seed,\n",
        "    \"output_format\": output_format,\n",
        "    \"model\": \"sd3\",\n",
        "    \"mode\": \"text-to-image\"\n",
        "}\n",
        "\n",
        "response = send_generation_request(\n",
        "    host,\n",
        "    params\n",
        ")\n",
        "\n",
        "output_image = response.content\n",
        "finish_reason = response.headers.get(\"finish-reason\")\n",
        "seed = response.headers.get(\"seed\")\n",
        "\n",
        "if finish_reason == 'CONTENT_FILTERED':\n",
        "    raise Warning(\"Generation failed NSFW classifier\")\n",
        "\n",
        "generated = f\"generated_{seed}.{output_format}\"\n",
        "with open(generated, \"wb\") as f:\n",
        "    f.write(output_image)\n",
        "print(f\"Saved image {generated}\")\n",
        "\n",
        "output.no_vertical_scroll()\n",
        "print(\"Result image:\")\n",
        "IPython.display.display(Image.open(generated))\n"
      ]
    }
  ],
  "metadata": {
    "colab": {
      "provenance": [],
      "include_colab_link": true
    },
    "kernelspec": {
      "display_name": "Python 3",
      "name": "python3"
    },
    "language_info": {
      "name": "python"
    }
  },
  "nbformat": 4,
  "nbformat_minor": 0
}